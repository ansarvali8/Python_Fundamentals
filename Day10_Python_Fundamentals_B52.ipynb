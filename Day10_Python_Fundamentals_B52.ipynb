{
 "cells": [
  {
   "cell_type": "code",
   "execution_count": 30,
   "id": "91a64f30",
   "metadata": {},
   "outputs": [
    {
     "name": "stdout",
     "output_type": "stream",
     "text": [
      "enter value of x87\n",
      "enter value of y13\n",
      "enter operationadd\n",
      "add result is 100\n"
     ]
    }
   ],
   "source": [
    "def calculator(x,y,func='sub'):\n",
    "    if func == 'add':\n",
    "        z = x+y\n",
    "        print(f\"{func} result is {z}\")\n",
    "    elif func == 'multi':\n",
    "        z = x * y\n",
    "        print(f\"{func} result is {z}\")\n",
    "    elif func == 'sub':\n",
    "        print(f\"{func} result is {x-y}\")\n",
    "    else:\n",
    "        print('invalid operation')\n",
    "a = int(input('enter value of x'))\n",
    "b = int(input('enter value of y'))\n",
    "c = input('enter operation')\n",
    "calculator(func=c,y=a,x=b)"
   ]
  },
  {
   "cell_type": "code",
   "execution_count": 31,
   "id": "4a0f254a",
   "metadata": {},
   "outputs": [
    {
     "name": "stdout",
     "output_type": "stream",
     "text": [
      "sub result is 74\n",
      "sub result is -74\n"
     ]
    }
   ],
   "source": [
    "calculator(a,b)\n",
    "calculator(b,a)"
   ]
  },
  {
   "cell_type": "code",
   "execution_count": null,
   "id": "0717ee14",
   "metadata": {},
   "outputs": [],
   "source": []
  },
  {
   "cell_type": "code",
   "execution_count": null,
   "id": "ec5af9eb",
   "metadata": {},
   "outputs": [],
   "source": []
  }
 ],
 "metadata": {
  "kernelspec": {
   "display_name": "Python 3",
   "language": "python",
   "name": "python3"
  },
  "language_info": {
   "codemirror_mode": {
    "name": "ipython",
    "version": 3
   },
   "file_extension": ".py",
   "mimetype": "text/x-python",
   "name": "python",
   "nbconvert_exporter": "python",
   "pygments_lexer": "ipython3",
   "version": "3.8.8"
  }
 },
 "nbformat": 4,
 "nbformat_minor": 5
}
