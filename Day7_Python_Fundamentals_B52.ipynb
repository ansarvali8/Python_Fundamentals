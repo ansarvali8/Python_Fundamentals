{
 "cells": [
  {
   "cell_type": "code",
   "execution_count": 1,
   "id": "dcd76e11",
   "metadata": {},
   "outputs": [
    {
     "name": "stdout",
     "output_type": "stream",
     "text": [
      "Dmart\n",
      "LULU\n",
      "Bigbazar\n",
      "Starbazar\n",
      "Heritage\n"
     ]
    }
   ],
   "source": [
    "markets = ['dmart','lulu','bigbazar','starbazar','heritage']\n",
    "for x in markets:\n",
    "    if x == 'lulu':\n",
    "        print(x.upper())\n",
    "    else:\n",
    "        print(x.title())\n",
    "        \n",
    "    "
   ]
  },
  {
   "cell_type": "code",
   "execution_count": 8,
   "id": "70921275",
   "metadata": {},
   "outputs": [
    {
     "name": "stdout",
     "output_type": "stream",
     "text": [
      "enter any value:23\n",
      "double digit\n"
     ]
    }
   ],
   "source": [
    "number = int(input('enter any value:'))\n",
    "if number > 100:\n",
    "    print('triple digit')\n",
    "elif number > 10:\n",
    "    print('double digit')\n",
    "else:\n",
    "    print('single digit')\n"
   ]
  },
  {
   "cell_type": "code",
   "execution_count": 9,
   "id": "28927adc",
   "metadata": {},
   "outputs": [
    {
     "data": {
      "text/plain": [
       "False"
      ]
     },
     "execution_count": 9,
     "metadata": {},
     "output_type": "execute_result"
    }
   ],
   "source": [
    "number > 50"
   ]
  },
  {
   "cell_type": "code",
   "execution_count": null,
   "id": "e8d8ffa6",
   "metadata": {},
   "outputs": [],
   "source": []
  },
  {
   "cell_type": "code",
   "execution_count": null,
   "id": "c2a7fe88",
   "metadata": {},
   "outputs": [],
   "source": []
  },
  {
   "cell_type": "code",
   "execution_count": null,
   "id": "ccf8a0a1",
   "metadata": {},
   "outputs": [],
   "source": []
  },
  {
   "cell_type": "code",
   "execution_count": null,
   "id": "bb6af276",
   "metadata": {},
   "outputs": [],
   "source": []
  }
 ],
 "metadata": {
  "kernelspec": {
   "display_name": "Python 3",
   "language": "python",
   "name": "python3"
  },
  "language_info": {
   "codemirror_mode": {
    "name": "ipython",
    "version": 3
   },
   "file_extension": ".py",
   "mimetype": "text/x-python",
   "name": "python",
   "nbconvert_exporter": "python",
   "pygments_lexer": "ipython3",
   "version": "3.8.8"
  }
 },
 "nbformat": 4,
 "nbformat_minor": 5
}
