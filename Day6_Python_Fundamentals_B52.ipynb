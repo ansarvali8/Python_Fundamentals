{
 "cells": [
  {
   "cell_type": "code",
   "execution_count": 1,
   "id": "3be765e7",
   "metadata": {},
   "outputs": [
    {
     "name": "stdout",
     "output_type": "stream",
     "text": [
      "['vizag', 'hyd', 'pune', 'kakinada', 'gajuwaka']\n"
     ]
    }
   ],
   "source": [
    "cities = ['vizag','hyd','pune','kakinada','gajuwaka']\n",
    "print(cities)"
   ]
  },
  {
   "cell_type": "code",
   "execution_count": 2,
   "id": "db7a0544",
   "metadata": {},
   "outputs": [
    {
     "name": "stdout",
     "output_type": "stream",
     "text": [
      "vizag\n",
      "hyd\n",
      "pune\n",
      "kakinada\n",
      "gajuwaka\n"
     ]
    }
   ],
   "source": [
    "for i in cities:\n",
    "    print(i)"
   ]
  },
  {
   "cell_type": "code",
   "execution_count": 6,
   "id": "ebb4044d",
   "metadata": {},
   "outputs": [
    {
     "name": "stdout",
     "output_type": "stream",
     "text": [
      "city name is vizag\n",
      "city name is hyd\n",
      "city name is pune\n",
      "city name is kakinada\n",
      "city name is gajuwaka\n"
     ]
    }
   ],
   "source": [
    "for i in cities:\n",
    "    print(\"city name is\", i)"
   ]
  },
  {
   "cell_type": "code",
   "execution_count": 7,
   "id": "ba463f4b",
   "metadata": {},
   "outputs": [
    {
     "name": "stdout",
     "output_type": "stream",
     "text": [
      "city name is Vizag\n",
      "city name is Hyd\n",
      "city name is Pune\n",
      "city name is Kakinada\n",
      "city name is Gajuwaka\n"
     ]
    }
   ],
   "source": [
    "for i in cities:\n",
    "    print(\"city name is\", i.title())"
   ]
  },
  {
   "cell_type": "code",
   "execution_count": 17,
   "id": "a27c6afb",
   "metadata": {},
   "outputs": [
    {
     "name": "stdout",
     "output_type": "stream",
     "text": [
      "city name is, Vizag.\n",
      "\n",
      "city name is, Hyd.\n",
      "\n",
      "city name is, Pune.\n",
      "\n",
      "city name is, Kakinada.\n",
      "\n",
      "city name is, Gajuwaka.\n",
      "\n"
     ]
    }
   ],
   "source": [
    "for i in cities:\n",
    "    print(f\"city name is, {i.title()}.\\n\")"
   ]
  },
  {
   "cell_type": "code",
   "execution_count": null,
   "id": "a483c171",
   "metadata": {},
   "outputs": [],
   "source": []
  }
 ],
 "metadata": {
  "kernelspec": {
   "display_name": "Python 3",
   "language": "python",
   "name": "python3"
  },
  "language_info": {
   "codemirror_mode": {
    "name": "ipython",
    "version": 3
   },
   "file_extension": ".py",
   "mimetype": "text/x-python",
   "name": "python",
   "nbconvert_exporter": "python",
   "pygments_lexer": "ipython3",
   "version": "3.8.8"
  }
 },
 "nbformat": 4,
 "nbformat_minor": 5
}
