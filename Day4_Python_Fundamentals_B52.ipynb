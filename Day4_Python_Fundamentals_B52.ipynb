{
 "cells": [
  {
   "cell_type": "code",
   "execution_count": 2,
   "id": "e9d5c72e",
   "metadata": {},
   "outputs": [
    {
     "name": "stdout",
     "output_type": "stream",
     "text": [
      "['deepu', 'jajju', 'satya', 'siva', 'anu', 'bharat']\n"
     ]
    }
   ],
   "source": [
    "friends = ['deepu','jajju','satya','siva','anu','bharat']\n",
    "print(friends)"
   ]
  },
  {
   "cell_type": "code",
   "execution_count": 3,
   "id": "9b58d649",
   "metadata": {},
   "outputs": [
    {
     "name": "stdout",
     "output_type": "stream",
     "text": [
      "['deepu', 'jajju', 'satya', 'siva', 'anu', 'bharat', 'sagar']\n"
     ]
    }
   ],
   "source": [
    "# 2 types of add, 1.append 2.insert\n",
    "friends.append('sagar')\n",
    "print(friends)"
   ]
  },
  {
   "cell_type": "code",
   "execution_count": 5,
   "id": "178b04da",
   "metadata": {},
   "outputs": [
    {
     "name": "stdout",
     "output_type": "stream",
     "text": [
      "['deepu', 'jajju', 'sthinadh', 'satya', 'siva', 'anu', 'bharat', 'sagar']\n"
     ]
    }
   ],
   "source": [
    "friends.insert(2,'sthinadh')\n",
    "print(friends)"
   ]
  },
  {
   "cell_type": "code",
   "execution_count": 7,
   "id": "ad65689f",
   "metadata": {},
   "outputs": [
    {
     "name": "stdout",
     "output_type": "stream",
     "text": [
      "['deepu', 'raja', 'sthinadh', 'satya', 'siva', 'anu', 'bharat', 'sagar']\n"
     ]
    }
   ],
   "source": [
    "#modify\n",
    "friends[1] = 'raja'\n",
    "print(friends)"
   ]
  },
  {
   "cell_type": "code",
   "execution_count": 8,
   "id": "0637cfe7",
   "metadata": {},
   "outputs": [
    {
     "name": "stdout",
     "output_type": "stream",
     "text": [
      "['deepu', 'raja', 'satya', 'siva', 'anu', 'bharat', 'sagar']\n"
     ]
    }
   ],
   "source": [
    "del friends[2]\n",
    "print(friends)"
   ]
  },
  {
   "cell_type": "code",
   "execution_count": null,
   "id": "a4c4c280",
   "metadata": {},
   "outputs": [],
   "source": []
  },
  {
   "cell_type": "code",
   "execution_count": null,
   "id": "486e2ea9",
   "metadata": {},
   "outputs": [],
   "source": []
  }
 ],
 "metadata": {
  "kernelspec": {
   "display_name": "Python 3",
   "language": "python",
   "name": "python3"
  },
  "language_info": {
   "codemirror_mode": {
    "name": "ipython",
    "version": 3
   },
   "file_extension": ".py",
   "mimetype": "text/x-python",
   "name": "python",
   "nbconvert_exporter": "python",
   "pygments_lexer": "ipython3",
   "version": "3.8.8"
  }
 },
 "nbformat": 4,
 "nbformat_minor": 5
}
