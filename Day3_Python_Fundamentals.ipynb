{
 "cells": [
  {
   "cell_type": "code",
   "execution_count": 15,
   "id": "54d299d8",
   "metadata": {},
   "outputs": [
    {
     "name": "stdout",
     "output_type": "stream",
     "text": [
      "ansarvali mohammed\n",
      "Ansarvali Mohammed\n",
      "Ansarvali mohammed\n",
      "ANSARVALI MOHAMMED\n",
      "ansarvali mohammed\n",
      "ANSARVALI MOHAMMED\n",
      "ANSARVALI MOHAMMED\n",
      "ansarvali mohammed\n",
      "fullname is ansar mohammed\n",
      "fav language is : pythoncjavacobol\n",
      "fav language is : \n",
      "python\n",
      "c\n",
      "java\n",
      "cobol\n",
      "fav language is : \n",
      "\tpython\n",
      "\tc\n",
      "\tjava\n",
      "\tcobol\n",
      "seetharam    \n",
      "seetharam\n",
      "    radhakrishna\n",
      "radhakrishna\n",
      "  naveen  \n",
      "naveen\n"
     ]
    }
   ],
   "source": [
    "fullname = 'ansarvali mohammed'\n",
    "print(fullname)\n",
    "\n",
    "# below are upper lower title capitalize examples\n",
    "print(fullname.title())\n",
    "print(fullname.capitalize())\n",
    "print(fullname.upper())\n",
    "print(fullname.upper().lower())\n",
    "print(fullname.lower().upper())\n",
    "fullname1 = fullname.upper()\n",
    "print(fullname1)\n",
    "print(fullname1.lower())\n",
    "\n",
    "firstname ='ansar'\n",
    "lastname = 'mohammed'\n",
    "\n",
    "# below f string example\n",
    "fullname2 = f\"fullname is {firstname} {lastname}\"\n",
    "print(fullname2)\n",
    "\n",
    "#below \\n \\t examples\n",
    "print(\"fav language is : pythoncjavacobol\")\n",
    "print(\"fav language is : \\npython\\nc\\njava\\ncobol\")\n",
    "print(\"fav language is : \\n\\tpython\\n\\tc\\n\\tjava\\n\\tcobol\")\n",
    "\n",
    "\n",
    "#below strip examples\n",
    "\n",
    "name1 = 'seetharam    '\n",
    "name2 = '    radhakrishna'\n",
    "name3 = '  naveen  '\n",
    "print(name1)\n",
    "print(name1.rstrip())\n",
    "print(name2)\n",
    "print(name2.lstrip())\n",
    "print(name3)\n",
    "print(name3.strip())\n"
   ]
  },
  {
   "cell_type": "code",
   "execution_count": null,
   "id": "5666d75f",
   "metadata": {},
   "outputs": [],
   "source": []
  }
 ],
 "metadata": {
  "kernelspec": {
   "display_name": "Python 3",
   "language": "python",
   "name": "python3"
  },
  "language_info": {
   "codemirror_mode": {
    "name": "ipython",
    "version": 3
   },
   "file_extension": ".py",
   "mimetype": "text/x-python",
   "name": "python",
   "nbconvert_exporter": "python",
   "pygments_lexer": "ipython3",
   "version": "3.8.8"
  }
 },
 "nbformat": 4,
 "nbformat_minor": 5
}
