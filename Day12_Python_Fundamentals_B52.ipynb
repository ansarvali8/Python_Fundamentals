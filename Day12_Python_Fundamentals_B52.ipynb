{
 "cells": [
  {
   "cell_type": "code",
   "execution_count": 26,
   "id": "a92faeff",
   "metadata": {},
   "outputs": [
    {
     "name": "stdout",
     "output_type": "stream",
     "text": [
      "candidate name is ansar \n",
      "candidate age is 25\n",
      "candidate working in WIPRO company\n",
      "candidate working from 10 years\n",
      "candidate earining 80 rupees\n",
      "candidate studied in anits college\n",
      "candidate pursued BE graduation\n"
     ]
    }
   ],
   "source": [
    "class Resume():\n",
    "    \"\"\"crating a resume class\"\"\"\n",
    "    def __init__(self,name,age,college,qualification,company,exp,salary):\n",
    "        self.who =  name\n",
    "        self.years =  age\n",
    "        self.school = college\n",
    "        self.degree = qualification\n",
    "        self.mnc = company\n",
    "        self.work = exp\n",
    "        self.earning = salary\n",
    "    def personal(self):\n",
    "        print(f\"candidate name is {self.who} \")\n",
    "        print('candidate age is ' + str(self.years))\n",
    "    def education(self):\n",
    "        print('candidate studied in ' + self.school + ' college')\n",
    "        print('candidate pursued ' +  self.degree + ' graduation')\n",
    "    def profession(self):\n",
    "        print('candidate working in ' + self.mnc.upper() + ' company')\n",
    "        print('candidate working from ' +self.work+ ' years')\n",
    "        print('candidate earining ' + self.earning + ' rupees')\n",
    "        \n",
    "objecta = Resume('ansar',25,'anits','BE','wipro','10','80')       \n",
    "# objecta.details('ansar',25,'anits','BE','wipro','10','80')\n",
    "objecta.personal()\n",
    "objecta.profession()\n",
    "objecta.education()"
   ]
  },
  {
   "cell_type": "code",
   "execution_count": null,
   "id": "296b8fa3",
   "metadata": {},
   "outputs": [],
   "source": []
  }
 ],
 "metadata": {
  "kernelspec": {
   "display_name": "Python 3",
   "language": "python",
   "name": "python3"
  },
  "language_info": {
   "codemirror_mode": {
    "name": "ipython",
    "version": 3
   },
   "file_extension": ".py",
   "mimetype": "text/x-python",
   "name": "python",
   "nbconvert_exporter": "python",
   "pygments_lexer": "ipython3",
   "version": "3.8.8"
  }
 },
 "nbformat": 4,
 "nbformat_minor": 5
}
