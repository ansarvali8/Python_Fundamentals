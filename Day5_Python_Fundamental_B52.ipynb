{
 "cells": [
  {
   "cell_type": "code",
   "execution_count": 1,
   "id": "a1658096",
   "metadata": {},
   "outputs": [
    {
     "name": "stdout",
     "output_type": "stream",
     "text": [
      "['syntel', 'HSBC', 'accenture', 'capgemini', 'wipro']\n"
     ]
    }
   ],
   "source": [
    "companies = ['syntel','HSBC','accenture','capgemini','wipro']\n",
    "print(companies)"
   ]
  },
  {
   "cell_type": "code",
   "execution_count": 2,
   "id": "4442b071",
   "metadata": {},
   "outputs": [
    {
     "name": "stdout",
     "output_type": "stream",
     "text": [
      "<class 'list'>\n"
     ]
    }
   ],
   "source": [
    "print(type(companies))"
   ]
  },
  {
   "cell_type": "code",
   "execution_count": 3,
   "id": "dec43240",
   "metadata": {},
   "outputs": [
    {
     "data": {
      "text/plain": [
       "5"
      ]
     },
     "execution_count": 3,
     "metadata": {},
     "output_type": "execute_result"
    }
   ],
   "source": [
    "len(companies)\n"
   ]
  },
  {
   "cell_type": "code",
   "execution_count": 6,
   "id": "4bf1936a",
   "metadata": {},
   "outputs": [
    {
     "name": "stdout",
     "output_type": "stream",
     "text": [
      "['HSBC', 'accenture', 'capgemini', 'syntel', 'wipro']\n"
     ]
    }
   ],
   "source": [
    "print(sorted(companies))"
   ]
  },
  {
   "cell_type": "code",
   "execution_count": 7,
   "id": "bb4fa55b",
   "metadata": {},
   "outputs": [
    {
     "name": "stdout",
     "output_type": "stream",
     "text": [
      "['syntel', 'HSBC', 'accenture', 'capgemini', 'wipro']\n"
     ]
    }
   ],
   "source": [
    "print(companies)"
   ]
  },
  {
   "cell_type": "code",
   "execution_count": 8,
   "id": "0f82efb7",
   "metadata": {},
   "outputs": [],
   "source": [
    "companies.sort()"
   ]
  },
  {
   "cell_type": "code",
   "execution_count": 9,
   "id": "d1c17748",
   "metadata": {},
   "outputs": [
    {
     "name": "stdout",
     "output_type": "stream",
     "text": [
      "['HSBC', 'accenture', 'capgemini', 'syntel', 'wipro']\n"
     ]
    }
   ],
   "source": [
    "print(companies)"
   ]
  },
  {
   "cell_type": "code",
   "execution_count": 10,
   "id": "e6655ce5",
   "metadata": {},
   "outputs": [
    {
     "name": "stdout",
     "output_type": "stream",
     "text": [
      "None\n"
     ]
    }
   ],
   "source": [
    "print(companies.sort())"
   ]
  },
  {
   "cell_type": "code",
   "execution_count": 11,
   "id": "12c16f19",
   "metadata": {},
   "outputs": [
    {
     "name": "stdout",
     "output_type": "stream",
     "text": [
      "None\n"
     ]
    }
   ],
   "source": [
    "print(companies.reverse())"
   ]
  },
  {
   "cell_type": "code",
   "execution_count": 12,
   "id": "94018ac6",
   "metadata": {},
   "outputs": [
    {
     "name": "stdout",
     "output_type": "stream",
     "text": [
      "['HSBC', 'accenture', 'capgemini', 'syntel', 'wipro']\n"
     ]
    }
   ],
   "source": [
    "companies.reverse()\n",
    "print(companies)"
   ]
  },
  {
   "cell_type": "code",
   "execution_count": 13,
   "id": "1bdba9ab",
   "metadata": {},
   "outputs": [
    {
     "name": "stdout",
     "output_type": "stream",
     "text": [
      "['wipro', 'syntel', 'capgemini', 'accenture', 'HSBC']\n"
     ]
    }
   ],
   "source": [
    "companies.reverse()\n",
    "print(companies)"
   ]
  },
  {
   "cell_type": "code",
   "execution_count": 14,
   "id": "807fe17e",
   "metadata": {},
   "outputs": [
    {
     "name": "stdout",
     "output_type": "stream",
     "text": [
      "['HSBC', 'accenture', 'capgemini', 'syntel', 'wipro']\n"
     ]
    }
   ],
   "source": [
    "companies.reverse()\n",
    "print(companies)"
   ]
  },
  {
   "cell_type": "code",
   "execution_count": 15,
   "id": "49787df5",
   "metadata": {},
   "outputs": [
    {
     "name": "stdout",
     "output_type": "stream",
     "text": [
      "None\n",
      "['HSBC', 'accenture', 'capgemini', 'syntel', 'wipro']\n"
     ]
    }
   ],
   "source": [
    "print(companies.reverse())\n",
    "companies.reverse()\n",
    "print(companies)"
   ]
  },
  {
   "cell_type": "code",
   "execution_count": 17,
   "id": "b9c6dfd4",
   "metadata": {},
   "outputs": [
    {
     "name": "stdout",
     "output_type": "stream",
     "text": [
      "['HSBC', 'accenture']\n"
     ]
    }
   ],
   "source": [
    "print(companies[0:2])"
   ]
  },
  {
   "cell_type": "code",
   "execution_count": 19,
   "id": "0258ec6f",
   "metadata": {},
   "outputs": [
    {
     "name": "stdout",
     "output_type": "stream",
     "text": [
      "['HSBC', 'capgemini', 'wipro']\n"
     ]
    }
   ],
   "source": [
    "print(companies[0:5:2])"
   ]
  },
  {
   "cell_type": "code",
   "execution_count": 20,
   "id": "c64efe10",
   "metadata": {},
   "outputs": [
    {
     "name": "stdout",
     "output_type": "stream",
     "text": [
      "['HSBC', 'capgemini', 'wipro']\n"
     ]
    }
   ],
   "source": [
    "print(companies[0:6:2])"
   ]
  },
  {
   "cell_type": "code",
   "execution_count": 21,
   "id": "47c072a4",
   "metadata": {},
   "outputs": [
    {
     "name": "stdout",
     "output_type": "stream",
     "text": [
      "['HSBC', 'capgemini', 'wipro']\n"
     ]
    }
   ],
   "source": [
    "print(companies[0:8:2])"
   ]
  },
  {
   "cell_type": "code",
   "execution_count": 22,
   "id": "100fa473",
   "metadata": {},
   "outputs": [
    {
     "name": "stdout",
     "output_type": "stream",
     "text": [
      "['HSBC']\n"
     ]
    }
   ],
   "source": [
    "print(companies[0:8:9])"
   ]
  },
  {
   "cell_type": "code",
   "execution_count": null,
   "id": "3530a143",
   "metadata": {},
   "outputs": [],
   "source": []
  }
 ],
 "metadata": {
  "kernelspec": {
   "display_name": "Python 3",
   "language": "python",
   "name": "python3"
  },
  "language_info": {
   "codemirror_mode": {
    "name": "ipython",
    "version": 3
   },
   "file_extension": ".py",
   "mimetype": "text/x-python",
   "name": "python",
   "nbconvert_exporter": "python",
   "pygments_lexer": "ipython3",
   "version": "3.8.8"
  }
 },
 "nbformat": 4,
 "nbformat_minor": 5
}
