{
 "cells": [
  {
   "cell_type": "code",
   "execution_count": 1,
   "id": "fa44431b",
   "metadata": {},
   "outputs": [
    {
     "data": {
      "text/plain": [
       "tuple"
      ]
     },
     "execution_count": 1,
     "metadata": {},
     "output_type": "execute_result"
    }
   ],
   "source": [
    "students = ('anu','ravi','namita','sri','raj')\n",
    "type(students)"
   ]
  },
  {
   "cell_type": "code",
   "execution_count": 4,
   "id": "a0e8a029",
   "metadata": {},
   "outputs": [
    {
     "name": "stdout",
     "output_type": "stream",
     "text": [
      "ANU\n",
      "RAVI\n",
      "NAMITA\n",
      "SRI\n",
      "RAJ\n"
     ]
    }
   ],
   "source": [
    "for x in students:\n",
    "    print(x.upper())"
   ]
  },
  {
   "cell_type": "code",
   "execution_count": 11,
   "id": "04ce34db",
   "metadata": {},
   "outputs": [
    {
     "name": "stdout",
     "output_type": "stream",
     "text": [
      "('ravi', 'namita')\n"
     ]
    }
   ],
   "source": [
    "print(students[1:3])"
   ]
  },
  {
   "cell_type": "code",
   "execution_count": 14,
   "id": "5dee19c2",
   "metadata": {},
   "outputs": [
    {
     "name": "stdout",
     "output_type": "stream",
     "text": [
      "('ravi', 'sri')\n"
     ]
    }
   ],
   "source": [
    "print(students[1:6:2])"
   ]
  },
  {
   "cell_type": "code",
   "execution_count": 34,
   "id": "c7ac3014",
   "metadata": {},
   "outputs": [
    {
     "name": "stdout",
     "output_type": "stream",
     "text": [
      "{'ap': 'vizag', 'telangana': 'hyd', 'orissa': 'bhu', 'bengal': 'ap'}\n"
     ]
    }
   ],
   "source": [
    "capitals ={'ap':'vizag','telangana':'hyd','orissa':'bhu','bengal':'ap'}\n",
    "print(capitals)"
   ]
  },
  {
   "cell_type": "code",
   "execution_count": 35,
   "id": "4c25409d",
   "metadata": {},
   "outputs": [
    {
     "data": {
      "text/plain": [
       "dict"
      ]
     },
     "execution_count": 35,
     "metadata": {},
     "output_type": "execute_result"
    }
   ],
   "source": [
    "type(capitals)"
   ]
  },
  {
   "cell_type": "code",
   "execution_count": 36,
   "id": "115886de",
   "metadata": {},
   "outputs": [
    {
     "name": "stdout",
     "output_type": "stream",
     "text": [
      "vizag\n",
      "hyd\n"
     ]
    }
   ],
   "source": [
    "print(capitals['ap'])\n",
    "print(capitals['telangana'])"
   ]
  },
  {
   "cell_type": "code",
   "execution_count": null,
   "id": "58a33f08",
   "metadata": {},
   "outputs": [],
   "source": []
  },
  {
   "cell_type": "code",
   "execution_count": null,
   "id": "d44c8149",
   "metadata": {},
   "outputs": [],
   "source": []
  }
 ],
 "metadata": {
  "kernelspec": {
   "display_name": "Python 3",
   "language": "python",
   "name": "python3"
  },
  "language_info": {
   "codemirror_mode": {
    "name": "ipython",
    "version": 3
   },
   "file_extension": ".py",
   "mimetype": "text/x-python",
   "name": "python",
   "nbconvert_exporter": "python",
   "pygments_lexer": "ipython3",
   "version": "3.8.8"
  }
 },
 "nbformat": 4,
 "nbformat_minor": 5
}
