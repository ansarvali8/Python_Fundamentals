{
 "cells": [
  {
   "cell_type": "code",
   "execution_count": 11,
   "id": "4f0dd5d4",
   "metadata": {},
   "outputs": [
    {
     "name": "stdout",
     "output_type": "stream",
     "text": [
      "10\n",
      "ansar\n",
      "ansarvali\n",
      "ansarvali mohammed\n",
      "<class 'str'>\n"
     ]
    },
    {
     "data": {
      "text/plain": [
       "type"
      ]
     },
     "execution_count": 11,
     "metadata": {},
     "output_type": "execute_result"
    }
   ],
   "source": [
    "x=5\n",
    "y=5\n",
    "z=x+y\n",
    "print(z)\n",
    "name = 'ansar'\n",
    "print(name)\n",
    "name=\"ansarvali\"\n",
    "print(name)\n",
    "name= \"\"\"ansarvali mohammed\"\"\"\n",
    "print(name)\n",
    "type(name)\n",
    "nametype =type(name)\n",
    "print(nametype)\n",
    "type(nametype)"
   ]
  },
  {
   "cell_type": "code",
   "execution_count": null,
   "id": "f81b0761",
   "metadata": {},
   "outputs": [],
   "source": []
  }
 ],
 "metadata": {
  "kernelspec": {
   "display_name": "Python 3",
   "language": "python",
   "name": "python3"
  },
  "language_info": {
   "codemirror_mode": {
    "name": "ipython",
    "version": 3
   },
   "file_extension": ".py",
   "mimetype": "text/x-python",
   "name": "python",
   "nbconvert_exporter": "python",
   "pygments_lexer": "ipython3",
   "version": "3.8.8"
  }
 },
 "nbformat": 4,
 "nbformat_minor": 5
}
