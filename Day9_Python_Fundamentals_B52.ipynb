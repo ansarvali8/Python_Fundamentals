{
 "cells": [
  {
   "cell_type": "code",
   "execution_count": 1,
   "id": "152edc3f",
   "metadata": {},
   "outputs": [],
   "source": [
    "student = {'class':9,'section':'b','sex':'m','result':'pass'}"
   ]
  },
  {
   "cell_type": "code",
   "execution_count": 3,
   "id": "6b91e62d",
   "metadata": {},
   "outputs": [
    {
     "name": "stdout",
     "output_type": "stream",
     "text": [
      "{'class': 9, 'section': 'b', 'sex': 'm', 'result': 'pass'}\n"
     ]
    }
   ],
   "source": [
    "print(student)"
   ]
  },
  {
   "cell_type": "code",
   "execution_count": 5,
   "id": "3af1b467",
   "metadata": {},
   "outputs": [
    {
     "name": "stdout",
     "output_type": "stream",
     "text": [
      "dict_items([('class', 9), ('section', 'b'), ('sex', 'm'), ('result', 'pass')])\n"
     ]
    }
   ],
   "source": [
    "print(student.items())"
   ]
  },
  {
   "cell_type": "code",
   "execution_count": 6,
   "id": "535e2d11",
   "metadata": {},
   "outputs": [
    {
     "name": "stdout",
     "output_type": "stream",
     "text": [
      "dict_keys(['class', 'section', 'sex', 'result'])\n",
      "dict_values([9, 'b', 'm', 'pass'])\n"
     ]
    }
   ],
   "source": [
    "print(student.keys())\n",
    "print(student.values())"
   ]
  },
  {
   "cell_type": "code",
   "execution_count": 9,
   "id": "df59d785",
   "metadata": {},
   "outputs": [
    {
     "name": "stdout",
     "output_type": "stream",
     "text": [
      "keyis class\n",
      "valueis 9\n",
      "keyis section\n",
      "valueis b\n",
      "keyis sex\n",
      "valueis m\n",
      "keyis result\n",
      "valueis pass\n"
     ]
    }
   ],
   "source": [
    "for i,j in student.items():\n",
    "    print('keyis', i)\n",
    "    print('valueis', j)\n",
    "    "
   ]
  },
  {
   "cell_type": "code",
   "execution_count": 14,
   "id": "5eea8c13",
   "metadata": {},
   "outputs": [
    {
     "name": "stdout",
     "output_type": "stream",
     "text": [
      "keyis class\n",
      "keyis section\n",
      "keyis sex\n",
      "keyis result\n",
      "valueis 9\n",
      "valueis b\n",
      "valueis m\n",
      "valueis pass\n"
     ]
    }
   ],
   "source": [
    "for i in student.keys():\n",
    "    print('keyis', i)\n",
    "for i in student.values():\n",
    "    print('valueis', i)\n",
    "    "
   ]
  },
  {
   "cell_type": "code",
   "execution_count": 27,
   "id": "042d5319",
   "metadata": {},
   "outputs": [],
   "source": [
    "student['percent'] = 87"
   ]
  },
  {
   "cell_type": "code",
   "execution_count": 23,
   "id": "50a749ff",
   "metadata": {},
   "outputs": [
    {
     "name": "stdout",
     "output_type": "stream",
     "text": [
      "class-->9\n",
      "section-->b\n",
      "sex-->m\n",
      "result-->pass\n",
      "percent-->87\n"
     ]
    }
   ],
   "source": [
    "for i,j in student.items():\n",
    "    print(i,  end=\"-->\")\n",
    "    print(j)"
   ]
  },
  {
   "cell_type": "code",
   "execution_count": 32,
   "id": "f77aceaf",
   "metadata": {},
   "outputs": [],
   "source": [
    "del student['sex']"
   ]
  },
  {
   "cell_type": "code",
   "execution_count": 33,
   "id": "2dde6ff4",
   "metadata": {},
   "outputs": [
    {
     "name": "stdout",
     "output_type": "stream",
     "text": [
      "class-->9\n",
      "section-->b\n",
      "result-->pass\n",
      "percent-->87\n"
     ]
    }
   ],
   "source": [
    "for i,j in student.items():\n",
    "    print(i,  end=\"-->\")\n",
    "    print(j)"
   ]
  },
  {
   "cell_type": "code",
   "execution_count": null,
   "id": "b54b34d0",
   "metadata": {},
   "outputs": [],
   "source": []
  }
 ],
 "metadata": {
  "kernelspec": {
   "display_name": "Python 3",
   "language": "python",
   "name": "python3"
  },
  "language_info": {
   "codemirror_mode": {
    "name": "ipython",
    "version": 3
   },
   "file_extension": ".py",
   "mimetype": "text/x-python",
   "name": "python",
   "nbconvert_exporter": "python",
   "pygments_lexer": "ipython3",
   "version": "3.8.8"
  }
 },
 "nbformat": 4,
 "nbformat_minor": 5
}
