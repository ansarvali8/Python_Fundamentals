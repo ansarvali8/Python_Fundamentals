{
 "cells": [
  {
   "cell_type": "code",
   "execution_count": 6,
   "id": "4d5460c0",
   "metadata": {},
   "outputs": [
    {
     "name": "stdout",
     "output_type": "stream",
     "text": [
      "Hello all welcome to python world\n"
     ]
    }
   ],
   "source": [
    "print(\"Hello all welcome to python world\")"
   ]
  },
  {
   "cell_type": "code",
   "execution_count": null,
   "id": "6404eb4a",
   "metadata": {},
   "outputs": [],
   "source": []
  }
 ],
 "metadata": {
  "kernelspec": {
   "display_name": "Python 3",
   "language": "python",
   "name": "python3"
  },
  "language_info": {
   "codemirror_mode": {
    "name": "ipython",
    "version": 3
   },
   "file_extension": ".py",
   "mimetype": "text/x-python",
   "name": "python",
   "nbconvert_exporter": "python",
   "pygments_lexer": "ipython3",
   "version": "3.8.8"
  }
 },
 "nbformat": 4,
 "nbformat_minor": 5
}
