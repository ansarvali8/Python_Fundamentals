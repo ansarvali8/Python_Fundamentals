{
 "cells": [
  {
   "cell_type": "code",
   "execution_count": 28,
   "id": "4355558c",
   "metadata": {},
   "outputs": [
    {
     "name": "stdout",
     "output_type": "stream",
     "text": [
      "sum is11\n",
      "sum1 is11\n",
      "sum2 is7\n",
      "sum3 is12\n"
     ]
    }
   ],
   "source": [
    "class calci():\n",
    "    def acceptval(self,x,y):\n",
    "        self.x = x\n",
    "        self.y = y\n",
    "    def add(self):\n",
    "        self.z = self.x + self.y\n",
    "        print('sum is' + str(self.z))\n",
    "    def disp(self):\n",
    "        print('sum1 is' + str(self.z))\n",
    "        self.a= self.z+1\n",
    "        print('sum2 is' + str(self.y))\n",
    "    def disp1(self):\n",
    "        print('sum3 is' + str(self.a))\n",
    "        \n",
    "    \n",
    "obja = calci()\n",
    "obja.acceptval(4,7)\n",
    "obja.add()\n",
    "obja.disp()\n",
    "obja.disp1()\n"
   ]
  },
  {
   "cell_type": "code",
   "execution_count": null,
   "id": "7ab48ff4",
   "metadata": {},
   "outputs": [],
   "source": []
  }
 ],
 "metadata": {
  "kernelspec": {
   "display_name": "Python 3",
   "language": "python",
   "name": "python3"
  },
  "language_info": {
   "codemirror_mode": {
    "name": "ipython",
    "version": 3
   },
   "file_extension": ".py",
   "mimetype": "text/x-python",
   "name": "python",
   "nbconvert_exporter": "python",
   "pygments_lexer": "ipython3",
   "version": "3.8.8"
  }
 },
 "nbformat": 4,
 "nbformat_minor": 5
}
