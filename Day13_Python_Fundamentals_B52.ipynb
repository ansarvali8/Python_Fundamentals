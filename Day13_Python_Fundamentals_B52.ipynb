{
 "cells": [
  {
   "cell_type": "code",
   "execution_count": 2,
   "id": "1055ca31",
   "metadata": {},
   "outputs": [
    {
     "name": "stdout",
     "output_type": "stream",
     "text": [
      "Syntel\n",
      "HSBC\n",
      "Accenture\n",
      "Capgemini\n"
     ]
    }
   ],
   "source": [
    "with open('companies.txt') as comp_fil:\n",
    "    contents = comp_fil.read()\n",
    "    \n",
    "print(contents)"
   ]
  },
  {
   "cell_type": "code",
   "execution_count": 6,
   "id": "29a2b920",
   "metadata": {},
   "outputs": [
    {
     "name": "stdout",
     "output_type": "stream",
     "text": [
      "Syntel\n",
      "HSBC\n",
      "Accenture\n",
      "Capgemini\n"
     ]
    }
   ],
   "source": [
    "file1 = 'companies.txt'\n",
    "with open(file1) as comp_fil:\n",
    "    contents = comp_fil.read()\n",
    "    \n",
    "print(contents)"
   ]
  },
  {
   "cell_type": "code",
   "execution_count": 11,
   "id": "1a1c81f1",
   "metadata": {},
   "outputs": [
    {
     "name": "stdout",
     "output_type": "stream",
     "text": [
      "wipro\n"
     ]
    }
   ],
   "source": [
    "file1 = 'companies.txt'\n",
    "with open(file1,'w') as f:\n",
    "    f.write('wipro')\n",
    "\n",
    "with open(file1) as g:\n",
    "    contents = g.read()\n",
    "    \n",
    "print(contents)"
   ]
  },
  {
   "cell_type": "code",
   "execution_count": 13,
   "id": "3fa8c341",
   "metadata": {},
   "outputs": [
    {
     "name": "stdout",
     "output_type": "stream",
     "text": [
      "\n",
      "syntel\n",
      "HSBC\n"
     ]
    }
   ],
   "source": [
    "with open(file1,'w') as f:\n",
    "    f.write('\\nsyntel')\n",
    "    f.write('\\nHSBC')\n",
    "with open(file1) as g:\n",
    "    contents = g.read()\n",
    "    \n",
    "print(contents)"
   ]
  },
  {
   "cell_type": "code",
   "execution_count": 16,
   "id": "a4401054",
   "metadata": {},
   "outputs": [
    {
     "name": "stdout",
     "output_type": "stream",
     "text": [
      "\n",
      "syntel\n",
      "HSBC\n",
      "Accenture\n",
      "CapG\n",
      "Accenture\n",
      "CapG\n",
      "Accenture\n",
      "CapG\n"
     ]
    }
   ],
   "source": [
    "with open(file1,'a') as f:\n",
    "    f.write('\\nAccenture')\n",
    "    f.write('\\nCapG')\n",
    "    \n",
    "with open(file1) as g:\n",
    "    contents = g.read()\n",
    "    \n",
    "print(contents)"
   ]
  },
  {
   "cell_type": "code",
   "execution_count": null,
   "id": "5e40ed2a",
   "metadata": {},
   "outputs": [],
   "source": []
  },
  {
   "cell_type": "code",
   "execution_count": null,
   "id": "dd6944c3",
   "metadata": {},
   "outputs": [],
   "source": []
  }
 ],
 "metadata": {
  "kernelspec": {
   "display_name": "Python 3",
   "language": "python",
   "name": "python3"
  },
  "language_info": {
   "codemirror_mode": {
    "name": "ipython",
    "version": 3
   },
   "file_extension": ".py",
   "mimetype": "text/x-python",
   "name": "python",
   "nbconvert_exporter": "python",
   "pygments_lexer": "ipython3",
   "version": "3.8.8"
  }
 },
 "nbformat": 4,
 "nbformat_minor": 5
}
